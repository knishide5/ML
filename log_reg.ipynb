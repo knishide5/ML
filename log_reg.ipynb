{
 "nbformat": 4,
 "nbformat_minor": 2,
 "metadata": {
  "language_info": {
   "name": "python",
   "codemirror_mode": {
    "name": "ipython",
    "version": 3
   },
   "version": "3.5.3"
  },
  "orig_nbformat": 2,
  "file_extension": ".py",
  "mimetype": "text/x-python",
  "name": "python",
  "npconvert_exporter": "python",
  "pygments_lexer": "ipython3",
  "version": 3
 },
 "cells": [
  {
   "cell_type": "code",
   "execution_count": 23,
   "metadata": {},
   "outputs": [
    {
     "name": "stdout",
     "output_type": "stream",
     "text": "[[1.4 0.2]\n [1.4 0.2]\n [1.3 0.2]\n [1.5 0.2]\n [1.4 0.2]\n [1.7 0.4]\n [1.4 0.3]\n [1.5 0.2]\n [1.4 0.2]\n [1.5 0.1]\n [1.5 0.2]\n [1.6 0.2]\n [1.4 0.1]\n [1.1 0.1]\n [1.2 0.2]\n [1.5 0.4]\n [1.3 0.4]\n [1.4 0.3]\n [1.7 0.3]\n [1.5 0.3]\n [1.7 0.2]\n [1.5 0.4]\n [1.  0.2]\n [1.7 0.5]\n [1.9 0.2]\n [1.6 0.2]\n [1.6 0.4]\n [1.5 0.2]\n [1.4 0.2]\n [1.6 0.2]\n [1.6 0.2]\n [1.5 0.4]\n [1.5 0.1]\n [1.4 0.2]\n [1.5 0.2]\n [1.2 0.2]\n [1.3 0.2]\n [1.4 0.1]\n [1.3 0.2]\n [1.5 0.2]\n [1.3 0.3]\n [1.3 0.3]\n [1.3 0.2]\n [1.6 0.6]\n [1.9 0.4]\n [1.4 0.3]\n [1.6 0.2]\n [1.4 0.2]\n [1.5 0.2]\n [1.4 0.2]\n [4.7 1.4]\n [4.5 1.5]\n [4.9 1.5]\n [4.  1.3]\n [4.6 1.5]\n [4.5 1.3]\n [4.7 1.6]\n [3.3 1. ]\n [4.6 1.3]\n [3.9 1.4]\n [3.5 1. ]\n [4.2 1.5]\n [4.  1. ]\n [4.7 1.4]\n [3.6 1.3]\n [4.4 1.4]\n [4.5 1.5]\n [4.1 1. ]\n [4.5 1.5]\n [3.9 1.1]\n [4.8 1.8]\n [4.  1.3]\n [4.9 1.5]\n [4.7 1.2]\n [4.3 1.3]\n [4.4 1.4]\n [4.8 1.4]\n [5.  1.7]\n [4.5 1.5]\n [3.5 1. ]\n [3.8 1.1]\n [3.7 1. ]\n [3.9 1.2]\n [5.1 1.6]\n [4.5 1.5]\n [4.5 1.6]\n [4.7 1.5]\n [4.4 1.3]\n [4.1 1.3]\n [4.  1.3]\n [4.4 1.2]\n [4.6 1.4]\n [4.  1.2]\n [3.3 1. ]\n [4.2 1.3]\n [4.2 1.2]\n [4.2 1.3]\n [4.3 1.3]\n [3.  1.1]\n [4.1 1.3]\n [6.  2.5]\n [5.1 1.9]\n [5.9 2.1]\n [5.6 1.8]\n [5.8 2.2]\n [6.6 2.1]\n [4.5 1.7]\n [6.3 1.8]\n [5.8 1.8]\n [6.1 2.5]\n [5.1 2. ]\n [5.3 1.9]\n [5.5 2.1]\n [5.  2. ]\n [5.1 2.4]\n [5.3 2.3]\n [5.5 1.8]\n [6.7 2.2]\n [6.9 2.3]\n [5.  1.5]\n [5.7 2.3]\n [4.9 2. ]\n [6.7 2. ]\n [4.9 1.8]\n [5.7 2.1]\n [6.  1.8]\n [4.8 1.8]\n [4.9 1.8]\n [5.6 2.1]\n [5.8 1.6]\n [6.1 1.9]\n [6.4 2. ]\n [5.6 2.2]\n [5.1 1.5]\n [5.6 1.4]\n [6.1 2.3]\n [5.6 2.4]\n [5.5 1.8]\n [4.8 1.8]\n [5.4 2.1]\n [5.6 2.4]\n [5.1 2.3]\n [5.1 1.9]\n [5.9 2.3]\n [5.7 2.5]\n [5.2 2.3]\n [5.  1.9]\n [5.2 2. ]\n [5.4 2.3]\n [5.1 1.8]]\n[0 0 0 0 0 0 0 0 0 0 0 0 0 0 0 0 0 0 0 0 0 0 0 0 0 0 0 0 0 0 0 0 0 0 0 0 0\n 0 0 0 0 0 0 0 0 0 0 0 0 0 1 1 1 1 1 1 1 1 1 1 1 1 1 1 1 1 1 1 1 1 1 1 1 1\n 1 1 1 1 1 1 1 1 1 1 1 1 1 1 1 1 1 1 1 1 1 1 1 1 1 1 2 2 2 2 2 2 2 2 2 2 2\n 2 2 2 2 2 2 2 2 2 2 2 2 2 2 2 2 2 2 2 2 2 2 2 2 2 2 2 2 2 2 2 2 2 2 2 2 2\n 2 2]\n"
    }
   ],
   "source": [
    "from sklearn import datasets\n",
    "from sklearn.model_selection import train_test_split\n",
    "from sklearn.preprocessing import StandardScaler\n",
    "from sklearn.linear_model import LogisticRegression\n",
    "import numpy as np\n",
    "\n",
    "# データをロード\n",
    "iris = datasets.load_iris()\n",
    "X = iris.data[:, [2, 3]]\n",
    "y = iris.target\n",
    "X_train, X_test, y_train, y_test = train_test_split(X, y, test_size=0.3, random_state=0)\n",
    "\n",
    "print(X)\n",
    "print(y)"
   ]
  },
  {
   "cell_type": "code",
   "execution_count": null,
   "metadata": {},
   "outputs": [],
   "source": [
    "# 特徴量を平準化\n",
    "sc = StandardScaler()\n",
    "sc.fit(X_train)\n",
    "X_train_std = sc.transform(X_train)\n",
    "X_test_std = sc.transform(X_test)"
   ]
  },
  {
   "cell_type": "code",
   "execution_count": 20,
   "metadata": {},
   "outputs": [
    {
     "name": "stderr",
     "output_type": "stream",
     "text": "/usr/local/lib/python3.5/dist-packages/sklearn/linear_model/logistic.py:432: FutureWarning: Default solver will be changed to 'lbfgs' in 0.22. Specify a solver to silence this warning.\n  FutureWarning)\n/usr/local/lib/python3.5/dist-packages/sklearn/linear_model/logistic.py:469: FutureWarning: Default multi_class will be changed to 'auto' in 0.22. Specify the multi_class option to silence this warning.\n  \"this warning.\", FutureWarning)\n"
    },
    {
     "data": {
      "text/plain": "LogisticRegression(C=1000, class_weight=None, dual=False, fit_intercept=True,\n                   intercept_scaling=1, l1_ratio=None, max_iter=100,\n                   multi_class='warn', n_jobs=None, penalty='l2',\n                   random_state=0, solver='warn', tol=0.0001, verbose=0,\n                   warm_start=False)"
     },
     "execution_count": 20,
     "metadata": {},
     "output_type": "execute_result"
    }
   ],
   "source": [
    "# ロジスティック回帰\n",
    "lr = LogisticRegression(C=1000, random_state=0)\n",
    "lr.fit(X_train_std, y_train)"
   ]
  },
  {
   "cell_type": "code",
   "execution_count": 21,
   "metadata": {},
   "outputs": [],
   "source": [
    "X_combined_std = np.vstack((X_train_std, X_test_std))\n",
    "y_combined = np.hstack((y_train, y_test))"
   ]
  },
  {
   "cell_type": "code",
   "execution_count": 22,
   "metadata": {},
   "outputs": [
    {
     "data": {
      "text/plain": "array([[1.78177322e-11, 6.12453348e-02, 9.38754665e-01],\n       [6.52443574e-04, 9.99242776e-01, 1.04780543e-04],\n       [8.15905531e-01, 1.84094469e-01, 6.46700211e-14],\n       [1.77343552e-11, 4.15366939e-01, 5.84633061e-01],\n       [7.98915241e-01, 2.01084759e-01, 1.07274231e-13],\n       [1.86631492e-13, 1.36009899e-01, 8.63990101e-01],\n       [8.64521291e-01, 1.35478709e-01, 9.26434600e-14],\n       [5.04386467e-07, 7.62276348e-01, 2.37723147e-01],\n       [6.99143083e-07, 8.44028823e-01, 1.55970478e-01],\n       [8.12729858e-05, 9.97738935e-01, 2.17979244e-03],\n       [1.02534042e-08, 4.63696185e-01, 5.36303804e-01],\n       [1.55343778e-06, 8.75637634e-01, 1.24360813e-01],\n       [5.68497788e-06, 9.81998082e-01, 1.79962332e-02],\n       [8.91851015e-07, 8.25082649e-01, 1.74916459e-01],\n       [1.18711224e-06, 8.91117525e-01, 1.08881288e-01],\n       [7.79083776e-01, 2.20916224e-01, 2.69623805e-14],\n       [1.55343778e-06, 8.75637634e-01, 1.24360813e-01],\n       [2.31484148e-05, 9.95392403e-01, 4.58444816e-03],\n       [8.49883095e-01, 1.50116905e-01, 1.54290980e-13],\n       [8.92571238e-01, 1.07428762e-01, 2.19094142e-13],\n       [1.27014365e-09, 1.36053981e-01, 8.63946017e-01],\n       [1.55343778e-06, 8.75637634e-01, 1.24360813e-01],\n       [7.27761400e-01, 2.72238600e-01, 8.05099039e-13],\n       [8.15905531e-01, 1.84094469e-01, 6.46700211e-14],\n       [1.27564051e-08, 2.32130255e-01, 7.67869733e-01],\n       [8.76445731e-01, 1.23554269e-01, 8.43535453e-15],\n       [8.03010141e-01, 1.96989859e-01, 4.67272333e-12],\n       [1.83508971e-05, 9.92064087e-01, 7.91756246e-03],\n       [1.92914322e-02, 9.80703828e-01, 4.73953671e-06],\n       [8.51796583e-01, 1.48203417e-01, 1.01715074e-12],\n       [5.19727981e-10, 3.06324602e-01, 6.93675398e-01],\n       [1.55343778e-06, 8.75637634e-01, 1.24360813e-01],\n       [7.98915241e-01, 2.01084759e-01, 1.07274231e-13],\n       [7.62983320e-09, 2.31115990e-01, 7.68884003e-01],\n       [1.23068080e-11, 1.72714088e-01, 8.27285912e-01],\n       [7.04421699e-05, 9.95811211e-01, 4.11834651e-03],\n       [8.01148607e-01, 1.98851393e-01, 7.07350640e-13],\n       [1.82337090e-08, 3.83600804e-01, 6.16399178e-01],\n       [7.72748834e-06, 9.60209051e-01, 3.97832218e-02],\n       [1.59324343e-04, 9.99064638e-01, 7.76037184e-04],\n       [4.31630843e-11, 1.91641972e-01, 8.08358028e-01],\n       [8.32263533e-01, 1.67736467e-01, 3.89401991e-14],\n       [4.20406602e-11, 7.97478369e-02, 9.20252163e-01],\n       [9.06651854e-01, 9.33481456e-02, 5.70698808e-12],\n       [7.98915241e-01, 2.01084759e-01, 1.07274231e-13]])"
     },
     "execution_count": 22,
     "metadata": {},
     "output_type": "execute_result"
    }
   ],
   "source": [
    "lr.predict_proba(X_test_std)"
   ]
  },
  {
   "cell_type": "code",
   "execution_count": null,
   "metadata": {},
   "outputs": [],
   "source": []
  }
 ]
}